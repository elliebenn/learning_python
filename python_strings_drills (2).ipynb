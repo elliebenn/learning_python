{
  "nbformat": 4,
  "nbformat_minor": 0,
  "metadata": {
    "kernelspec": {
      "display_name": "Python 3",
      "language": "python",
      "name": "python3"
    },
    "language_info": {
      "codemirror_mode": {
        "name": "ipython",
        "version": 3
      },
      "file_extension": ".py",
      "mimetype": "text/x-python",
      "name": "python",
      "nbconvert_exporter": "python",
      "pygments_lexer": "ipython3",
      "version": "3.7.0"
    },
    "colab": {
      "name": "python_strings_drills.ipynb",
      "provenance": []
    }
  },
  "cells": [
    {
      "cell_type": "markdown",
      "metadata": {
        "id": "g-6gB4NKaW81",
        "colab_type": "text"
      },
      "source": [
        "## 1: Hello world\n",
        "\n",
        "Create a function called `hello` that takes one argument (`person`, a string) and returns a string saying hello to that person. The result should be formatted so that when you call the function like this:\n",
        "\n",
        "```python\n",
        "hello('Moon')\n",
        "```\n",
        "\n",
        "you return a string that looks like this:\n",
        "\n",
        "```python\n",
        "'Hello, Moon'\n",
        "```"
      ]
    },
    {
      "cell_type": "code",
      "metadata": {
        "id": "miKazbz4aW82",
        "colab_type": "code",
        "outputId": "9b4c86f1-ff49-46aa-86cc-963381efb849",
        "colab": {
          "base_uri": "https://localhost:8080/",
          "height": 34
        }
      },
      "source": [
        "def hello(person):\n",
        "  return \"Hello, \" + person\n",
        "\n",
        "hello('Moon')\n"
      ],
      "execution_count": 0,
      "outputs": [
        {
          "output_type": "execute_result",
          "data": {
            "text/plain": [
              "'Hello, Moon'"
            ]
          },
          "metadata": {
            "tags": []
          },
          "execution_count": 2
        }
      ]
    },
    {
      "cell_type": "markdown",
      "metadata": {
        "id": "cTXfdZjwaW85",
        "colab_type": "text"
      },
      "source": [
        "<br>\n",
        "\n",
        "## 2: Quotable\n",
        "\n",
        "1. [Quotable](https://www.codewars.com/kata/thinkful-string-drills-quotable/)\n",
        "\n",
        "Create a function called `quotable` that takes a person's name as a parameter called `name` and a quote of theirs as a parameter called `quote`, and return a string attributing the quote to the person in the following format:\n",
        "\n",
        "```\n",
        "'[name] said: \"[quote]\"'\n",
        "```\n",
        "\n",
        "For example, if name is 'Grae' and 'quote' is 'Practice makes perfect' then your function should return the string\n",
        "\n",
        "'Grae said: \"Practice makes perfect\"'\n",
        "Unfortunately, something is wrong with the instructions in the function body. Your job is to fix it so the function returns correctly formatted quotes.\n",
        "\n",
        "Be careful with your quotation marks!"
      ]
    },
    {
      "cell_type": "code",
      "metadata": {
        "id": "_oFm1UHmik1w",
        "colab_type": "code",
        "outputId": "a2f51301-236f-4ef8-e000-8d6b3a1f281f",
        "colab": {
          "base_uri": "https://localhost:8080/",
          "height": 34
        }
      },
      "source": [
        "def quotable(name, quote):\n",
        "  return name + \" said: \\\"\" + quote + \"\\\"\"\n",
        "\n",
        "quotable(\"Grae\", \"Practice makes perfect\")"
      ],
      "execution_count": 0,
      "outputs": [
        {
          "output_type": "execute_result",
          "data": {
            "text/plain": [
              "'Grae said: \"Practice makes perfect\"'"
            ]
          },
          "metadata": {
            "tags": []
          },
          "execution_count": 6
        }
      ]
    },
    {
      "cell_type": "markdown",
      "metadata": {
        "id": "9m7zJfnvaW86",
        "colab_type": "text"
      },
      "source": [
        "## 3: Jedi name\n",
        "\n",
        "You just took a contract with the Jedi council. They need you to write a function, greet_jedi(), which takes two arguments (a first name and a last name), works out the corresponding Jedi name, and returns a string greeting the Jedi.\n",
        "\n",
        "A person's Jedi name is the first three letters of their last name followed by the first two letters of their first name. For example:\n",
        "\n",
        "```\n",
        ">>> greet_jedi('Beyonce', 'Knowles')\n",
        "'Greetings, master KnoBe'\n",
        "```\n",
        "\n",
        "Note the capitalization: the first letter of each name is capitalized. Your input may or may not be capitalized. Your function should handle it and return the Jedi name in the correct case no matter what case the input is in:\n",
        "\n",
        "```\n",
        ">>> greet_jedi('grae', 'drake')\n",
        "'Greetings, master DraGr'\n",
        "```"
      ]
    },
    {
      "cell_type": "code",
      "metadata": {
        "id": "RHp9EkACkMsA",
        "colab_type": "code",
        "outputId": "856ac2b5-6b59-4336-cd7a-78a119ae8559",
        "colab": {
          "base_uri": "https://localhost:8080/",
          "height": 34
        }
      },
      "source": [
        "def greet_jedi(first, last):\n",
        "  jedi_name = last[0:3].capitalize() + first[0:2].capitalize()\n",
        "  return \"Greetings, master \" + jedi_name\n",
        "\n",
        "greet_jedi('grae', 'drake')\n",
        "greet_jedi('Beyonce', 'Knowles')"
      ],
      "execution_count": 0,
      "outputs": [
        {
          "output_type": "execute_result",
          "data": {
            "text/plain": [
              "'Greetings, master KnoBe'"
            ]
          },
          "metadata": {
            "tags": []
          },
          "execution_count": 17
        }
      ]
    },
    {
      "cell_type": "markdown",
      "metadata": {
        "id": "R12VAzkRaW86",
        "colab_type": "text"
      },
      "source": [
        "## 4: Poem formatter\n",
        "\n",
        "You have a collection of lovely poems. Unfortuantely they aren't formatted very well. They're all on one line, like this:\n",
        "\n",
        "```\n",
        "Beautiful is better than ugly. Explicit is better than implicit. Simple is better than complex. Complex is better than complicated.\n",
        "```\n",
        "\n",
        "What you want is to present each sentence on a new line, so that it looks like this:\n",
        "\n",
        "```\n",
        "Beautiful is better than ugly.\n",
        "Explicit is better than implicit.\n",
        "Simple is better than complex.\n",
        "Complex is better than complicated.\n",
        "```\n",
        "\n",
        "Write a function called `format_poem` that takes a string like the one-line example as an argument and returns a new string that is formatted across multiple lines with each new sentence starting on a new line when you print it out.\n",
        "\n",
        "Hint: You may find the `str.split()` and the `str.join()` string methods to be helpful.\n",
        "\n",
        "Every sentence will end with a period, and every new sentence will have one space before the previous period. Be careful about trailing whitespace in your solution."
      ]
    },
    {
      "cell_type": "code",
      "metadata": {
        "id": "NCClFDfkaW87",
        "colab_type": "code",
        "outputId": "277a707d-a3d0-45f5-f75c-719e4f4f2053",
        "colab": {
          "base_uri": "https://localhost:8080/",
          "height": 85
        }
      },
      "source": [
        "def format_poem(peom):\n",
        "  split_poem = poem.split('. ')\n",
        "  formatted_poem = \". \\n\".join(split_poem)\n",
        "  return print(formatted_poem)\n",
        "  \n",
        "\n",
        "poem = 'Beautiful is better than ugly. Explicit is better than implicit. Simple is better than complex. Complex is better than complicated.'\n",
        "format_poem(poem)"
      ],
      "execution_count": 0,
      "outputs": [
        {
          "output_type": "stream",
          "text": [
            "Beautiful is better than ugly. \n",
            "Explicit is better than implicit. \n",
            "Simple is better than complex. \n",
            "Complex is better than complicated.\n"
          ],
          "name": "stdout"
        }
      ]
    }
  ]
}