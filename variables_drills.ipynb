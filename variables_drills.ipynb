{
  "nbformat": 4,
  "nbformat_minor": 0,
  "metadata": {
    "colab": {
      "name": "variables_drills.ipynb",
      "provenance": []
    },
    "kernelspec": {
      "name": "python3",
      "display_name": "Python 3"
    }
  },
  "cells": [
    {
      "cell_type": "markdown",
      "metadata": {
        "id": "V3lkc5EozWaS",
        "colab_type": "text"
      },
      "source": [
        "**Variables** shorthand way of referring to values elsewhere in program "
      ]
    },
    {
      "cell_type": "code",
      "metadata": {
        "id": "n8o7UvMYzWiQ",
        "colab_type": "code",
        "colab": {
          "base_uri": "https://localhost:8080/",
          "height": 238
        },
        "outputId": "cc1085b1-5be2-4fd1-e68a-291134cdd7bf"
      },
      "source": [
        "base_url = \"https://stackoverflow.com/\"\n",
        "\n",
        "empty_line = \"\\n\"\n",
        "\n",
        "print(\"Stack Overflow comunity is a trusted online community for anyone looking to learn coding, sharing their knowledge, and career help\")\n",
        "print(\"I have a feeling I will be using Stack Overflow a lot in the upcoming months!!\")\n",
        "print(empty_line)\n",
        "\n",
        "print(\"#questions is where anyone can ask questions that fellow users are able to answer\")\n",
        "print(\"You can get there by going to:\")\n",
        "print(base_url + \"questions\")\n",
        "print(empty_line)\n",
        "\n",
        "print(\"You can search for jobs by going to:\")\n",
        "print(base_url + \"jobs\")\n",
        "print(empty_line)\n"
      ],
      "execution_count": 10,
      "outputs": [
        {
          "output_type": "stream",
          "text": [
            "Stack Overflow comunity is a trusted online community for anyone looking to learn coding, sharing their knowledge, and career help\n",
            "I have a feeling I will be using Stack Overflow a lot in the upcoming months!!\n",
            "\n",
            "\n",
            "#questions is where anyone can ask questions that fellow users are able to answer\n",
            "You can get there by going to:\n",
            "https://stackoverflow.com/questions\n",
            "\n",
            "\n",
            "You can search for jobs by going to:\n",
            "https://stackoverflow.com/jobs\n",
            "\n",
            "\n"
          ],
          "name": "stdout"
        }
      ]
    }
  ]
}